{
 "cells": [
  {
   "cell_type": "code",
   "execution_count": 515,
   "metadata": {},
   "outputs": [],
   "source": [
    "import pandas as pd  \n",
    "import numpy as np  \n",
    "import matplotlib.pyplot as plt  \n",
    "import seaborn as seabornInstance \n",
    "from sklearn.model_selection import train_test_split \n",
    "from sklearn.linear_model import LinearRegression\n",
    "from sklearn import metrics\n",
    "from datetime import datetime\n",
    "from datetime import timedelta\n",
    "from pandas.io.json import json_normalize "
   ]
  },
  {
   "cell_type": "code",
   "execution_count": 516,
   "metadata": {},
   "outputs": [],
   "source": [
    "def get_dataset(url, state, y_column, recent_days_count):\n",
    "    raw_dataset = pd.read_json(url)\n",
    "    df = pd.json_normalize(data = raw_dataset['data'], record_path ='regional', meta =['day'])\n",
    "    df1 = df[df['loc']==state].rename(columns={'day': 'date', 'loc': 'state', 'totalConfirmed': 'cases'})\n",
    "    df1 = df1.append({'date' : '2020-04-08', 'state': 'Tamil Nadu', 'cases': 738, 'deaths': 8} , ignore_index=True) # add today's data manually since it is not present in source\n",
    "    dataset_all = df1[['date', 'state', 'cases', 'deaths']]\n",
    "    dataset_all.insert(4, 'day', range(1, 1 + len(df1)))\n",
    "    dataset = dataset_all.tail(recent_days_count)\n",
    "    return dataset"
   ]
  },
  {
   "cell_type": "code",
   "execution_count": 517,
   "metadata": {},
   "outputs": [],
   "source": [
    "def get_model(dataset, y_column):\n",
    "    X = dataset['day'].values.reshape(-1,1)\n",
    "    y = dataset[y_column].values.reshape(-1,1)\n",
    "    X_train, X_test, y_train, y_test = train_test_split(X, y, test_size=0.2, random_state=0)\n",
    "    regressor = LinearRegression()\n",
    "    regressor.fit(X_train, y_train) #training the algorithm    \n",
    "    y_pred = regressor.predict(X_test)\n",
    "    print('Mean Absolute Error:', metrics.mean_absolute_error(y_test, y_pred))  \n",
    "    print('Mean Squared Error:', metrics.mean_squared_error(y_test, y_pred))  \n",
    "    print('Root Mean Squared Error:', np.sqrt(metrics.mean_squared_error(y_test, y_pred)))\n",
    "#     plot_training_data(X_train, y_train, regressor)\n",
    "#     plot_test_data(X_test, y_test, y_pred)\n",
    "    return regressor\n"
   ]
  },
  {
   "cell_type": "code",
   "execution_count": 518,
   "metadata": {},
   "outputs": [],
   "source": [
    "def plot_training_data(X_train, y_train, regressor):\n",
    "    y_train_pred = regressor.predict(X_train)\n",
    "    plt.scatter(X_train, y_train,  color='gray')\n",
    "    plt.plot(X_train, y_train_pred, color='red', linewidth=2)\n",
    "    plt.show()\n",
    "    return"
   ]
  },
  {
   "cell_type": "code",
   "execution_count": 519,
   "metadata": {},
   "outputs": [],
   "source": [
    "def plot_test_data(X_test, y_test, y_pred):\n",
    "    plt.scatter(X_test, y_test,  color='gray')\n",
    "    plt.plot(X_test, y_pred, color='red', linewidth=2)\n",
    "    plt.show()\n",
    "    return"
   ]
  },
  {
   "cell_type": "code",
   "execution_count": 520,
   "metadata": {},
   "outputs": [],
   "source": [
    "def get_next_days(dataset, prediction_duration):\n",
    "    next_days = []\n",
    "    next_days.append(dataset.tail(1)['day'].values[0] + 1)\n",
    "    for i in range(1, prediction_duration):\n",
    "        next_days.append(next_days[-1] + 1)\n",
    "    return next_days   \n"
   ]
  },
  {
   "cell_type": "code",
   "execution_count": 521,
   "metadata": {},
   "outputs": [],
   "source": [
    "def get_next_dates(dataset, prediction_duration):\n",
    "    next_dates = []\n",
    "    next_dates.append(datetime.strftime(datetime.strptime(dataset.tail(1)['date'].values[0] , '%Y-%m-%d') + timedelta(days=1), '%Y-%m-%d'))\n",
    "    for i in range(1, prediction_duration):\n",
    "        next_dates.append(datetime.strftime(datetime.strptime(next_dates[-1], '%Y-%m-%d') + timedelta(days=1), '%Y-%m-%d'))\n",
    "    return next_dates"
   ]
  },
  {
   "cell_type": "code",
   "execution_count": 522,
   "metadata": {},
   "outputs": [],
   "source": [
    "def get_next_day_predictions(next_days, regressor):\n",
    "    next_day_predictions = []\n",
    "    for i in range(0, len(next_days)):\n",
    "        next_day_predictions.append(int(regressor.predict([[next_days[i]]])[0,0]))\n",
    "    return next_day_predictions\n"
   ]
  },
  {
   "cell_type": "code",
   "execution_count": 523,
   "metadata": {},
   "outputs": [],
   "source": [
    "def perform_predictions(url, state, y_column, recent_days_count, prediction_duration):\n",
    "    dataset = get_dataset(url, state, y_column, recent_days_count)\n",
    "    regressor = get_model(dataset, y_column)\n",
    "    next_days = get_next_days(dataset, prediction_duration)\n",
    "    next_dates = get_next_dates(dataset, prediction_duration)\n",
    "    next_day_predictions = get_next_day_predictions(next_days, regressor)\n",
    "    return next_dates, next_day_predictions\n"
   ]
  },
  {
   "cell_type": "code",
   "execution_count": 524,
   "metadata": {},
   "outputs": [],
   "source": [
    "def result_dataframe(state, next_dates, confirmed_cases_predictions, death_cases_predictions):\n",
    "    d = {\n",
    "        'State': state, \n",
    "        'Date': next_dates, \n",
    "        'Confirmed_Cases_Predications': confirmed_cases_predictions,\n",
    "        'Death_Cases_Predications': death_cases_predictions\n",
    "    }\n",
    "\n",
    "    df = pd.DataFrame(d)\n",
    "    df.style.set_properties(**{'text-align': 'left'})\n",
    "    return df"
   ]
  },
  {
   "cell_type": "code",
   "execution_count": 525,
   "metadata": {},
   "outputs": [
    {
     "name": "stdout",
     "output_type": "stream",
     "text": [
      "Mean Absolute Error: 0.0\n",
      "Mean Squared Error: 0.0\n",
      "Root Mean Squared Error: 0.0\n",
      "Mean Absolute Error: 0.45000000000000284\n",
      "Mean Squared Error: 0.29250000000000087\n",
      "Root Mean Squared Error: 0.5408326913195992\n"
     ]
    },
    {
     "data": {
      "text/html": [
       "<div>\n",
       "<style scoped>\n",
       "    .dataframe tbody tr th:only-of-type {\n",
       "        vertical-align: middle;\n",
       "    }\n",
       "\n",
       "    .dataframe tbody tr th {\n",
       "        vertical-align: top;\n",
       "    }\n",
       "\n",
       "    .dataframe thead th {\n",
       "        text-align: right;\n",
       "    }\n",
       "</style>\n",
       "<table border=\"1\" class=\"dataframe\">\n",
       "  <thead>\n",
       "    <tr style=\"text-align: right;\">\n",
       "      <th></th>\n",
       "      <th>State</th>\n",
       "      <th>Date</th>\n",
       "      <th>Confirmed_Cases_Predications</th>\n",
       "      <th>Death_Cases_Predications</th>\n",
       "    </tr>\n",
       "  </thead>\n",
       "  <tbody>\n",
       "    <tr>\n",
       "      <th>0</th>\n",
       "      <td>Tamil Nadu</td>\n",
       "      <td>2020-04-09</td>\n",
       "      <td>808</td>\n",
       "      <td>9</td>\n",
       "    </tr>\n",
       "    <tr>\n",
       "      <th>1</th>\n",
       "      <td>Tamil Nadu</td>\n",
       "      <td>2020-04-10</td>\n",
       "      <td>871</td>\n",
       "      <td>10</td>\n",
       "    </tr>\n",
       "    <tr>\n",
       "      <th>2</th>\n",
       "      <td>Tamil Nadu</td>\n",
       "      <td>2020-04-11</td>\n",
       "      <td>933</td>\n",
       "      <td>11</td>\n",
       "    </tr>\n",
       "    <tr>\n",
       "      <th>3</th>\n",
       "      <td>Tamil Nadu</td>\n",
       "      <td>2020-04-12</td>\n",
       "      <td>996</td>\n",
       "      <td>12</td>\n",
       "    </tr>\n",
       "    <tr>\n",
       "      <th>4</th>\n",
       "      <td>Tamil Nadu</td>\n",
       "      <td>2020-04-13</td>\n",
       "      <td>1058</td>\n",
       "      <td>13</td>\n",
       "    </tr>\n",
       "    <tr>\n",
       "      <th>5</th>\n",
       "      <td>Tamil Nadu</td>\n",
       "      <td>2020-04-14</td>\n",
       "      <td>1121</td>\n",
       "      <td>15</td>\n",
       "    </tr>\n",
       "    <tr>\n",
       "      <th>6</th>\n",
       "      <td>Tamil Nadu</td>\n",
       "      <td>2020-04-15</td>\n",
       "      <td>1183</td>\n",
       "      <td>16</td>\n",
       "    </tr>\n",
       "    <tr>\n",
       "      <th>7</th>\n",
       "      <td>Tamil Nadu</td>\n",
       "      <td>2020-04-16</td>\n",
       "      <td>1246</td>\n",
       "      <td>17</td>\n",
       "    </tr>\n",
       "    <tr>\n",
       "      <th>8</th>\n",
       "      <td>Tamil Nadu</td>\n",
       "      <td>2020-04-17</td>\n",
       "      <td>1308</td>\n",
       "      <td>18</td>\n",
       "    </tr>\n",
       "    <tr>\n",
       "      <th>9</th>\n",
       "      <td>Tamil Nadu</td>\n",
       "      <td>2020-04-18</td>\n",
       "      <td>1371</td>\n",
       "      <td>19</td>\n",
       "    </tr>\n",
       "  </tbody>\n",
       "</table>\n",
       "</div>"
      ],
      "text/plain": [
       "        State        Date  Confirmed_Cases_Predications  \\\n",
       "0  Tamil Nadu  2020-04-09                           808   \n",
       "1  Tamil Nadu  2020-04-10                           871   \n",
       "2  Tamil Nadu  2020-04-11                           933   \n",
       "3  Tamil Nadu  2020-04-12                           996   \n",
       "4  Tamil Nadu  2020-04-13                          1058   \n",
       "5  Tamil Nadu  2020-04-14                          1121   \n",
       "6  Tamil Nadu  2020-04-15                          1183   \n",
       "7  Tamil Nadu  2020-04-16                          1246   \n",
       "8  Tamil Nadu  2020-04-17                          1308   \n",
       "9  Tamil Nadu  2020-04-18                          1371   \n",
       "\n",
       "   Death_Cases_Predications  \n",
       "0                         9  \n",
       "1                        10  \n",
       "2                        11  \n",
       "3                        12  \n",
       "4                        13  \n",
       "5                        15  \n",
       "6                        16  \n",
       "7                        17  \n",
       "8                        18  \n",
       "9                        19  "
      ]
     },
     "execution_count": 525,
     "metadata": {},
     "output_type": "execute_result"
    }
   ],
   "source": [
    "## Prediction Model for India - Tamil Nadu\n",
    "url=\"https://api.rootnet.in/covid19-in/stats/history\"\n",
    "state='Tamil Nadu'\n",
    "\n",
    "confirmed_recent_days=5\n",
    "death_recent_days_count=6\n",
    "prediction_duration=10\n",
    "\n",
    "confirmed_cases_next_dates, confirmed_cases_predictions = perform_predictions(\n",
    "    url, state, \"cases\", confirmed_recent_days, prediction_duration)\n",
    "\n",
    "death_cases_next_dates, death_cases_predictions = perform_predictions(\n",
    "    url, state, \"deaths\", death_recent_days_count, prediction_duration)\n",
    "\n",
    "result_dataframe(state, confirmed_cases_next_dates, confirmed_cases_predictions, death_cases_predictions)"
   ]
  }
 ],
 "metadata": {
  "kernelspec": {
   "display_name": "Python 3",
   "language": "python",
   "name": "python3"
  },
  "language_info": {
   "codemirror_mode": {
    "name": "ipython",
    "version": 3
   },
   "file_extension": ".py",
   "mimetype": "text/x-python",
   "name": "python",
   "nbconvert_exporter": "python",
   "pygments_lexer": "ipython3",
   "version": "3.7.6"
  }
 },
 "nbformat": 4,
 "nbformat_minor": 4
}
