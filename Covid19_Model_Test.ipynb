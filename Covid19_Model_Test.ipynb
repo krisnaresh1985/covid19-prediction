{
 "cells": [
  {
   "cell_type": "code",
   "execution_count": 1091,
   "metadata": {},
   "outputs": [],
   "source": [
    "import pandas as pd  \n",
    "import numpy as np  \n",
    "import matplotlib.pyplot as plt  \n",
    "import seaborn as seabornInstance \n",
    "from sklearn.model_selection import train_test_split \n",
    "from sklearn.linear_model import LinearRegression\n",
    "from sklearn import metrics\n",
    "from datetime import datetime\n",
    "from datetime import timedelta "
   ]
  },
  {
   "cell_type": "code",
   "execution_count": 1092,
   "metadata": {},
   "outputs": [],
   "source": [
    "# url=\"https://raw.githubusercontent.com/CSSEGISandData/COVID-19/master/csse_covid_19_data/csse_covid_19_time_series/time_series_covid19_confirmed_global.csv\"\n",
    "url=\"https://raw.githubusercontent.com/CSSEGISandData/COVID-19/master/csse_covid_19_data/csse_covid_19_time_series/time_series_covid19_deaths_global.csv\"\n",
    "country=\"Canada\"\n",
    "state=\"Ontario\""
   ]
  },
  {
   "cell_type": "code",
   "execution_count": 1093,
   "metadata": {},
   "outputs": [],
   "source": [
    "raw_dataset = pd.read_csv(url)"
   ]
  },
  {
   "cell_type": "code",
   "execution_count": 1094,
   "metadata": {
    "scrolled": true
   },
   "outputs": [],
   "source": [
    "df = raw_dataset[(raw_dataset['Country/Region']==country) & (raw_dataset['Province/State']==state)]"
   ]
  },
  {
   "cell_type": "code",
   "execution_count": 1095,
   "metadata": {},
   "outputs": [],
   "source": [
    "df = df.drop(columns=['Lat', 'Long'])\n",
    "df1 = df.melt(['Province/State', 'Country/Region'], var_name='Date', value_name='Cases')\n",
    "df1.insert(3, 'Day', range(1, 1 + len(df1)))\n",
    "dataset_all = df1.drop(columns=['Province/State', 'Country/Region'])"
   ]
  },
  {
   "cell_type": "code",
   "execution_count": 1096,
   "metadata": {},
   "outputs": [],
   "source": [
    "dataset = dataset_all.tail(6)"
   ]
  },
  {
   "cell_type": "code",
   "execution_count": 1097,
   "metadata": {},
   "outputs": [
    {
     "data": {
      "image/png": "[encoded data removed]",
      "text/plain": [
       "<Figure size 432x288 with 1 Axes>"
      ]
     },
     "metadata": {
      "needs_background": "light"
     },
     "output_type": "display_data"
    }
   ],
   "source": [
    "dataset.plot(x='Day', y='Cases', style='o')  \n",
    "plt.title('Day vs Cases')  \n",
    "plt.xlabel('Day')  \n",
    "plt.ylabel('Cases')  \n",
    "plt.show()"
   ]
  },
  {
   "cell_type": "code",
   "execution_count": 1098,
   "metadata": {},
   "outputs": [],
   "source": [
    "X = dataset['Day'].values.reshape(-1,1)\n",
    "y = dataset['Cases'].values.reshape(-1,1)"
   ]
  },
  {
   "cell_type": "code",
   "execution_count": 1099,
   "metadata": {},
   "outputs": [],
   "source": [
    "X_train, X_test, y_train, y_test = train_test_split(X, y, test_size=0.2, random_state=0)"
   ]
  },
  {
   "cell_type": "code",
   "execution_count": 1100,
   "metadata": {},
   "outputs": [
    {
     "name": "stdout",
     "output_type": "stream",
     "text": [
      "72 74 71 75 "
     ]
    }
   ],
   "source": [
    "for x in np.nditer(X_train):\n",
    "    print(x, end=' ')"
   ]
  },
  {
   "cell_type": "code",
   "execution_count": 1101,
   "metadata": {},
   "outputs": [
    {
     "name": "stdout",
     "output_type": "stream",
     "text": [
      "53 94 37 119 "
     ]
    }
   ],
   "source": [
    "for y in np.nditer(y_train):\n",
    "    print(y, end=' ')"
   ]
  },
  {
   "cell_type": "code",
   "execution_count": 1102,
   "metadata": {},
   "outputs": [
    {
     "data": {
      "text/html": [
       "<div>\n",
       "<style scoped>\n",
       "    .dataframe tbody tr th:only-of-type {\n",
       "        vertical-align: middle;\n",
       "    }\n",
       "\n",
       "    .dataframe tbody tr th {\n",
       "        vertical-align: top;\n",
       "    }\n",
       "\n",
       "    .dataframe thead th {\n",
       "        text-align: right;\n",
       "    }\n",
       "</style>\n",
       "<table border=\"1\" class=\"dataframe\">\n",
       "  <thead>\n",
       "    <tr style=\"text-align: right;\">\n",
       "      <th></th>\n",
       "      <th>Province/State</th>\n",
       "      <th>Country/Region</th>\n",
       "      <th>Date</th>\n",
       "      <th>Day</th>\n",
       "      <th>Cases</th>\n",
       "    </tr>\n",
       "  </thead>\n",
       "  <tbody>\n",
       "    <tr>\n",
       "      <th>27</th>\n",
       "      <td>Ontario</td>\n",
       "      <td>Canada</td>\n",
       "      <td>2/18/20</td>\n",
       "      <td>28</td>\n",
       "      <td>0</td>\n",
       "    </tr>\n",
       "  </tbody>\n",
       "</table>\n",
       "</div>"
      ],
      "text/plain": [
       "   Province/State Country/Region     Date  Day  Cases\n",
       "27        Ontario         Canada  2/18/20   28      0"
      ]
     },
     "execution_count": 1102,
     "metadata": {},
     "output_type": "execute_result"
    }
   ],
   "source": [
    "df1[df1['Day']==28]"
   ]
  },
  {
   "cell_type": "code",
   "execution_count": 1103,
   "metadata": {},
   "outputs": [
    {
     "data": {
      "text/plain": [
       "LinearRegression(copy_X=True, fit_intercept=True, n_jobs=None, normalize=False)"
      ]
     },
     "execution_count": 1103,
     "metadata": {},
     "output_type": "execute_result"
    }
   ],
   "source": [
    "regressor = LinearRegression()\n",
    "regressor.fit(X_train, y_train) #training the algorithm"
   ]
  },
  {
   "cell_type": "code",
   "execution_count": 1104,
   "metadata": {},
   "outputs": [
    {
     "name": "stdout",
     "output_type": "stream",
     "text": [
      "[-1420.75]\n",
      "[[20.5]]\n"
     ]
    }
   ],
   "source": [
    "#To retrieve the intercept:\n",
    "print(regressor.intercept_)\n",
    "\n",
    "#For retrieving the slope:\n",
    "print(regressor.coef_)\n"
   ]
  },
  {
   "cell_type": "code",
   "execution_count": 1105,
   "metadata": {},
   "outputs": [],
   "source": [
    "# np.set_printoptions(suppress=True)\n",
    "# arr = np.empty((len(X_train),3))\n",
    "# for i in range(1, len(X_train)):\n",
    "#     y_predicted = regressor.coef_ * X_train[i, 0] + regressor.intercept_[0]\n",
    "#     y_actual = y_train[i, 0]\n",
    "#     arr[i,:] = [X_train[i, 0], y_predicted, y_actual]\n",
    "\n",
    "# print(arr)\n"
   ]
  },
  {
   "cell_type": "code",
   "execution_count": 1106,
   "metadata": {},
   "outputs": [],
   "source": [
    "y_pred = regressor.predict(X_test)"
   ]
  },
  {
   "cell_type": "code",
   "execution_count": 1107,
   "metadata": {},
   "outputs": [
    {
     "data": {
      "text/html": [
       "<div>\n",
       "<style scoped>\n",
       "    .dataframe tbody tr th:only-of-type {\n",
       "        vertical-align: middle;\n",
       "    }\n",
       "\n",
       "    .dataframe tbody tr th {\n",
       "        vertical-align: top;\n",
       "    }\n",
       "\n",
       "    .dataframe thead th {\n",
       "        text-align: right;\n",
       "    }\n",
       "</style>\n",
       "<table border=\"1\" class=\"dataframe\">\n",
       "  <thead>\n",
       "    <tr style=\"text-align: right;\">\n",
       "      <th></th>\n",
       "      <th>Actual</th>\n",
       "      <th>Predicted</th>\n",
       "    </tr>\n",
       "  </thead>\n",
       "  <tbody>\n",
       "    <tr>\n",
       "      <th>0</th>\n",
       "      <td>150</td>\n",
       "      <td>137.25</td>\n",
       "    </tr>\n",
       "    <tr>\n",
       "      <th>1</th>\n",
       "      <td>67</td>\n",
       "      <td>75.75</td>\n",
       "    </tr>\n",
       "  </tbody>\n",
       "</table>\n",
       "</div>"
      ],
      "text/plain": [
       "   Actual  Predicted\n",
       "0     150     137.25\n",
       "1      67      75.75"
      ]
     },
     "execution_count": 1107,
     "metadata": {},
     "output_type": "execute_result"
    }
   ],
   "source": [
    "df = pd.DataFrame({'Actual': y_test.flatten(), 'Predicted': y_pred.flatten()})\n",
    "df"
   ]
  },
  {
   "cell_type": "code",
   "execution_count": 1108,
   "metadata": {},
   "outputs": [],
   "source": [
    "# Actual vs Predicated\n",
    "# df.plot(kind='bar',figsize=(16,10))\n",
    "# plt.grid(which='major', linestyle='-', linewidth='0.5', color='green')\n",
    "# plt.grid(which='minor', linestyle=':', linewidth='0.5', color='black')\n",
    "# plt.show()"
   ]
  },
  {
   "cell_type": "code",
   "execution_count": 1109,
   "metadata": {},
   "outputs": [
    {
     "data": {
      "image/png": "[encoded data removed]",
      "text/plain": [
       "<Figure size 432x288 with 1 Axes>"
      ]
     },
     "metadata": {
      "needs_background": "light"
     },
     "output_type": "display_data"
    }
   ],
   "source": [
    "# Plotting straight line with all data\n",
    "y_train_pred = regressor.predict(X_train)\n",
    "plt.scatter(X_train, y_train,  color='gray')\n",
    "plt.plot(X_train, y_train_pred, color='red', linewidth=2)\n",
    "plt.show()"
   ]
  },
  {
   "cell_type": "code",
   "execution_count": 1110,
   "metadata": {},
   "outputs": [
    {
     "data": {
      "image/png": "[encoded data removed]",
      "text/plain": [
       "<Figure size 432x288 with 1 Axes>"
      ]
     },
     "metadata": {
      "needs_background": "light"
     },
     "output_type": "display_data"
    }
   ],
   "source": [
    "# Plotting straight line with test data\n",
    "plt.scatter(X_test, y_test,  color='gray')\n",
    "plt.plot(X_test, y_pred, color='red', linewidth=2)\n",
    "plt.show()"
   ]
  },
  {
   "cell_type": "code",
   "execution_count": 1111,
   "metadata": {},
   "outputs": [
    {
     "name": "stdout",
     "output_type": "stream",
     "text": [
      "Mean Absolute Error: 10.75\n",
      "Mean Squared Error: 119.5625\n",
      "Root Mean Squared Error: 10.93446386431452\n"
     ]
    }
   ],
   "source": [
    "print('Mean Absolute Error:', metrics.mean_absolute_error(y_test, y_pred))  \n",
    "print('Mean Squared Error:', metrics.mean_squared_error(y_test, y_pred))  \n",
    "print('Root Mean Squared Error:', np.sqrt(metrics.mean_squared_error(y_test, y_pred)))"
   ]
  },
  {
   "cell_type": "code",
   "execution_count": 1112,
   "metadata": {},
   "outputs": [],
   "source": [
    "# Predictions for one day\n",
    "# next_day = dataset.tail(1)['Day'].values[0] + 1\n",
    "# last_date = dataset.tail(1)['Date'].values[0] \n",
    "# next_date = datetime.strftime(datetime.strptime(last_date, '%m/%d/%y') + timedelta(days=1), '%m/%d/%Y')\n",
    "# next_day_prediction = regressor.predict([[next_day]])[0,0]\n",
    "# data = [[country, state, next_date, int(next_day_prediction)]] \n",
    "# df = pd.DataFrame(data, columns = ['Country', 'State', 'Date', 'Confirmed_Cases_Predicated'])\n",
    "# df.style.set_properties(**{'text-align': 'left'})"
   ]
  },
  {
   "cell_type": "code",
   "execution_count": 1113,
   "metadata": {},
   "outputs": [
    {
     "name": "stdout",
     "output_type": "stream",
     "text": [
      "[77, 78, 79]\n"
     ]
    },
    {
     "data": {
      "text/html": [
       "<style  type=\"text/css\" >\n",
       "    #T_85947068_7876_11ea_ae9c_9801a79c84b9row0_col0 {\n",
       "            text-align:  left;\n",
       "        }    #T_85947068_7876_11ea_ae9c_9801a79c84b9row0_col1 {\n",
       "            text-align:  left;\n",
       "        }    #T_85947068_7876_11ea_ae9c_9801a79c84b9row0_col2 {\n",
       "            text-align:  left;\n",
       "        }    #T_85947068_7876_11ea_ae9c_9801a79c84b9row0_col3 {\n",
       "            text-align:  left;\n",
       "        }    #T_85947068_7876_11ea_ae9c_9801a79c84b9row1_col0 {\n",
       "            text-align:  left;\n",
       "        }    #T_85947068_7876_11ea_ae9c_9801a79c84b9row1_col1 {\n",
       "            text-align:  left;\n",
       "        }    #T_85947068_7876_11ea_ae9c_9801a79c84b9row1_col2 {\n",
       "            text-align:  left;\n",
       "        }    #T_85947068_7876_11ea_ae9c_9801a79c84b9row1_col3 {\n",
       "            text-align:  left;\n",
       "        }    #T_85947068_7876_11ea_ae9c_9801a79c84b9row2_col0 {\n",
       "            text-align:  left;\n",
       "        }    #T_85947068_7876_11ea_ae9c_9801a79c84b9row2_col1 {\n",
       "            text-align:  left;\n",
       "        }    #T_85947068_7876_11ea_ae9c_9801a79c84b9row2_col2 {\n",
       "            text-align:  left;\n",
       "        }    #T_85947068_7876_11ea_ae9c_9801a79c84b9row2_col3 {\n",
       "            text-align:  left;\n",
       "        }</style><table id=\"T_85947068_7876_11ea_ae9c_9801a79c84b9\" ><thead>    <tr>        <th class=\"blank level0\" ></th>        <th class=\"col_heading level0 col0\" >Country</th>        <th class=\"col_heading level0 col1\" >State</th>        <th class=\"col_heading level0 col2\" >Date</th>        <th class=\"col_heading level0 col3\" >Confirmed_Cases_Predications</th>    </tr></thead><tbody>\n",
       "                <tr>\n",
       "                        <th id=\"T_85947068_7876_11ea_ae9c_9801a79c84b9level0_row0\" class=\"row_heading level0 row0\" >0</th>\n",
       "                        <td id=\"T_85947068_7876_11ea_ae9c_9801a79c84b9row0_col0\" class=\"data row0 col0\" >Canada</td>\n",
       "                        <td id=\"T_85947068_7876_11ea_ae9c_9801a79c84b9row0_col1\" class=\"data row0 col1\" >Ontario</td>\n",
       "                        <td id=\"T_85947068_7876_11ea_ae9c_9801a79c84b9row0_col2\" class=\"data row0 col2\" >04/07/2020</td>\n",
       "                        <td id=\"T_85947068_7876_11ea_ae9c_9801a79c84b9row0_col3\" class=\"data row0 col3\" >157</td>\n",
       "            </tr>\n",
       "            <tr>\n",
       "                        <th id=\"T_85947068_7876_11ea_ae9c_9801a79c84b9level0_row1\" class=\"row_heading level0 row1\" >1</th>\n",
       "                        <td id=\"T_85947068_7876_11ea_ae9c_9801a79c84b9row1_col0\" class=\"data row1 col0\" >Canada</td>\n",
       "                        <td id=\"T_85947068_7876_11ea_ae9c_9801a79c84b9row1_col1\" class=\"data row1 col1\" >Ontario</td>\n",
       "                        <td id=\"T_85947068_7876_11ea_ae9c_9801a79c84b9row1_col2\" class=\"data row1 col2\" >04/08/2020</td>\n",
       "                        <td id=\"T_85947068_7876_11ea_ae9c_9801a79c84b9row1_col3\" class=\"data row1 col3\" >178</td>\n",
       "            </tr>\n",
       "            <tr>\n",
       "                        <th id=\"T_85947068_7876_11ea_ae9c_9801a79c84b9level0_row2\" class=\"row_heading level0 row2\" >2</th>\n",
       "                        <td id=\"T_85947068_7876_11ea_ae9c_9801a79c84b9row2_col0\" class=\"data row2 col0\" >Canada</td>\n",
       "                        <td id=\"T_85947068_7876_11ea_ae9c_9801a79c84b9row2_col1\" class=\"data row2 col1\" >Ontario</td>\n",
       "                        <td id=\"T_85947068_7876_11ea_ae9c_9801a79c84b9row2_col2\" class=\"data row2 col2\" >04/09/2020</td>\n",
       "                        <td id=\"T_85947068_7876_11ea_ae9c_9801a79c84b9row2_col3\" class=\"data row2 col3\" >198</td>\n",
       "            </tr>\n",
       "    </tbody></table>"
      ],
      "text/plain": [
       "<pandas.io.formats.style.Styler at 0x1a24a2b790>"
      ]
     },
     "execution_count": 1113,
     "metadata": {},
     "output_type": "execute_result"
    }
   ],
   "source": [
    "next_days = []\n",
    "next_dates = []\n",
    "next_day_predictions = []\n",
    "\n",
    "next_day = dataset.tail(1)['Day'].values[0] + 1\n",
    "next_days.append(next_day)\n",
    "\n",
    "next_date = datetime.strftime(datetime.strptime(dataset.tail(1)['Date'].values[0] , '%m/%d/%y') + timedelta(days=1), '%m/%d/%Y')\n",
    "next_dates.append(next_date)\n",
    "\n",
    "next_day_prediction = int(regressor.predict([[next_day]])[0,0])\n",
    "next_day_predictions.append(next_day_prediction)\n",
    "\n",
    "for i in range(1, 3):\n",
    "    next_days.append(next_days[-1] + 1)\n",
    "    next_dates.append(datetime.strftime(datetime.strptime(next_dates[-1], '%m/%d/%Y') + timedelta(days=1), '%m/%d/%Y'))\n",
    "    next_day_predictions.append(int(regressor.predict([[next_days[-1]]])[0,0]))\n",
    "\n",
    "print(next_days)\n",
    "d = {'Country': country, 'State': state, 'Date': next_dates, 'Confirmed_Cases_Predications': next_day_predictions }\n",
    "df = pd.DataFrame(d)\n",
    "df.style.set_properties(**{'text-align': 'left'})\n",
    "    "
   ]
  },
  {
   "cell_type": "code",
   "execution_count": null,
   "metadata": {},
   "outputs": [],
   "source": []
  }
 ],
 "metadata": {
  "kernelspec": {
   "display_name": "Python 3",
   "language": "python",
   "name": "python3"
  },
  "language_info": {
   "codemirror_mode": {
    "name": "ipython",
    "version": 3
   },
   "file_extension": ".py",
   "mimetype": "text/x-python",
   "name": "python",
   "nbconvert_exporter": "python",
   "pygments_lexer": "ipython3",
   "version": "3.7.6"
  }
 },
 "nbformat": 4,
 "nbformat_minor": 4
}
