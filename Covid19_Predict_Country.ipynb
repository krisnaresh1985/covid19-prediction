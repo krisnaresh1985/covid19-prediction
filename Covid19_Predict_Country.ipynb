{
 "cells": [
  {
   "cell_type": "code",
   "execution_count": 77,
   "metadata": {},
   "outputs": [],
   "source": [
    "import pandas as pd  \n",
    "import numpy as np  \n",
    "import matplotlib.pyplot as plt  \n",
    "import seaborn as seabornInstance \n",
    "from sklearn.model_selection import train_test_split \n",
    "from sklearn.linear_model import LinearRegression\n",
    "from sklearn import metrics\n",
    "from datetime import datetime\n",
    "from datetime import timedelta"
   ]
  },
  {
   "cell_type": "code",
   "execution_count": 78,
   "metadata": {},
   "outputs": [],
   "source": [
    "def get_dataset(url, country, recent_days_count):\n",
    "    raw_dataset = pd.read_csv(url)\n",
    "    df = raw_dataset[(raw_dataset['Country/Region']==country)]\n",
    "    df = df.drop(columns=['Lat', 'Long'])\n",
    "    df1 = df.melt(['Province/State', 'Country/Region'], var_name='Date', value_name='Cases')\n",
    "    df1.insert(3, 'Day', range(1, 1 + len(df1)))\n",
    "    dataset_all = df1.drop(columns=['Province/State', 'Country/Region'])    \n",
    "    dataset = dataset_all.tail(recent_days_count)\n",
    "    return dataset"
   ]
  },
  {
   "cell_type": "code",
   "execution_count": 79,
   "metadata": {},
   "outputs": [],
   "source": [
    "def get_model(dataset):\n",
    "    X = dataset['Day'].values.reshape(-1,1)\n",
    "    y = dataset['Cases'].values.reshape(-1,1)\n",
    "    X_train, X_test, y_train, y_test = train_test_split(X, y, test_size=0.2, random_state=0)\n",
    "    regressor = LinearRegression()\n",
    "    regressor.fit(X_train, y_train) #training the algorithm    \n",
    "    y_pred = regressor.predict(X_test)\n",
    "    print('Mean Absolute Error:', metrics.mean_absolute_error(y_test, y_pred))  \n",
    "    print('Mean Squared Error:', metrics.mean_squared_error(y_test, y_pred))  \n",
    "    print('Root Mean Squared Error:', np.sqrt(metrics.mean_squared_error(y_test, y_pred)))\n",
    "#     plot_training_data(X_train, y_train, regressor)\n",
    "#     plot_test_data(X_test, y_test, y_pred)\n",
    "    return regressor\n"
   ]
  },
  {
   "cell_type": "code",
   "execution_count": 80,
   "metadata": {},
   "outputs": [],
   "source": [
    "def plot_training_data(X_train, y_train, regressor):\n",
    "    y_train_pred = regressor.predict(X_train)\n",
    "    plt.scatter(X_train, y_train,  color='gray')\n",
    "    plt.plot(X_train, y_train_pred, color='red', linewidth=2)\n",
    "    plt.show()\n",
    "    return"
   ]
  },
  {
   "cell_type": "code",
   "execution_count": 81,
   "metadata": {},
   "outputs": [],
   "source": [
    "def plot_test_data(X_test, y_test, y_pred):\n",
    "    plt.scatter(X_test, y_test,  color='gray')\n",
    "    plt.plot(X_test, y_pred, color='red', linewidth=2)\n",
    "    plt.show()\n",
    "    return"
   ]
  },
  {
   "cell_type": "code",
   "execution_count": 82,
   "metadata": {},
   "outputs": [],
   "source": [
    "def get_next_days(dataset, prediction_duration):\n",
    "    next_days = []\n",
    "    next_days.append(dataset.tail(1)['Day'].values[0] + 1)\n",
    "    for i in range(1, prediction_duration):\n",
    "        next_days.append(next_days[-1] + 1)\n",
    "    return next_days   \n"
   ]
  },
  {
   "cell_type": "code",
   "execution_count": 83,
   "metadata": {},
   "outputs": [],
   "source": [
    "def get_next_dates(dataset, prediction_duration):\n",
    "    next_dates = []\n",
    "    next_dates.append(datetime.strftime(datetime.strptime(dataset.tail(1)['Date'].values[0] , '%m/%d/%y') + timedelta(days=1), '%m/%d/%Y'))\n",
    "    for i in range(1, prediction_duration):\n",
    "        next_dates.append(datetime.strftime(datetime.strptime(next_dates[-1], '%m/%d/%Y') + timedelta(days=1), '%m/%d/%Y'))\n",
    "    return next_dates"
   ]
  },
  {
   "cell_type": "code",
   "execution_count": 84,
   "metadata": {},
   "outputs": [],
   "source": [
    "def get_next_day_predictions(next_days, regressor):\n",
    "    next_day_predictions = []\n",
    "    for i in range(0, len(next_days)):\n",
    "        next_day_predictions.append(int(regressor.predict([[next_days[i]]])[0,0]))\n",
    "    return next_day_predictions\n"
   ]
  },
  {
   "cell_type": "code",
   "execution_count": 85,
   "metadata": {},
   "outputs": [],
   "source": [
    "def perform_predictions(url, country, recent_days_count, prediction_duration):\n",
    "    dataset = get_dataset(url, country, recent_days_count)\n",
    "    regressor = get_model(dataset)\n",
    "    next_days = get_next_days(dataset, prediction_duration)\n",
    "    next_dates = get_next_dates(dataset, prediction_duration)\n",
    "    next_day_predictions = get_next_day_predictions(next_days, regressor)\n",
    "    return next_dates, next_day_predictions\n"
   ]
  },
  {
   "cell_type": "code",
   "execution_count": 86,
   "metadata": {},
   "outputs": [],
   "source": [
    "def result_dataframe(country, next_dates, confirmed_cases_predictions, death_cases_predictions):\n",
    "    d = {\n",
    "        'Country': country, \n",
    "        'Date': next_dates, \n",
    "        'Confirmed_Cases_Predications': confirmed_cases_predictions,\n",
    "        'Death_Cases_Predications': death_cases_predictions \n",
    "    }\n",
    "\n",
    "    df = pd.DataFrame(d)\n",
    "    df.style.set_properties(**{'text-align': 'left'})\n",
    "    return df"
   ]
  },
  {
   "cell_type": "code",
   "execution_count": 87,
   "metadata": {},
   "outputs": [],
   "source": [
    "confirmed_case_url=\"https://raw.githubusercontent.com/CSSEGISandData/COVID-19/master/csse_covid_19_data/csse_covid_19_time_series/time_series_covid19_confirmed_global.csv\"\n",
    "death_case_url=\"https://raw.githubusercontent.com/CSSEGISandData/COVID-19/master/csse_covid_19_data/csse_covid_19_time_series/time_series_covid19_deaths_global.csv\""
   ]
  },
  {
   "cell_type": "code",
   "execution_count": 89,
   "metadata": {},
   "outputs": [
    {
     "name": "stdout",
     "output_type": "stream",
     "text": [
      "Mean Absolute Error: 287.0\n",
      "Mean Squared Error: 82369.0\n",
      "Root Mean Squared Error: 287.0\n",
      "Mean Absolute Error: 8.75\n",
      "Mean Squared Error: 76.5625\n",
      "Root Mean Squared Error: 8.75\n"
     ]
    },
    {
     "data": {
      "text/html": [
       "<div>\n",
       "<style scoped>\n",
       "    .dataframe tbody tr th:only-of-type {\n",
       "        vertical-align: middle;\n",
       "    }\n",
       "\n",
       "    .dataframe tbody tr th {\n",
       "        vertical-align: top;\n",
       "    }\n",
       "\n",
       "    .dataframe thead th {\n",
       "        text-align: right;\n",
       "    }\n",
       "</style>\n",
       "<table border=\"1\" class=\"dataframe\">\n",
       "  <thead>\n",
       "    <tr style=\"text-align: right;\">\n",
       "      <th></th>\n",
       "      <th>Country</th>\n",
       "      <th>Date</th>\n",
       "      <th>Confirmed_Cases_Predications</th>\n",
       "      <th>Death_Cases_Predications</th>\n",
       "    </tr>\n",
       "  </thead>\n",
       "  <tbody>\n",
       "    <tr>\n",
       "      <th>0</th>\n",
       "      <td>India</td>\n",
       "      <td>04/07/2020</td>\n",
       "      <td>5016</td>\n",
       "      <td>141</td>\n",
       "    </tr>\n",
       "    <tr>\n",
       "      <th>1</th>\n",
       "      <td>India</td>\n",
       "      <td>04/08/2020</td>\n",
       "      <td>5565</td>\n",
       "      <td>156</td>\n",
       "    </tr>\n",
       "    <tr>\n",
       "      <th>2</th>\n",
       "      <td>India</td>\n",
       "      <td>04/09/2020</td>\n",
       "      <td>6114</td>\n",
       "      <td>172</td>\n",
       "    </tr>\n",
       "    <tr>\n",
       "      <th>3</th>\n",
       "      <td>India</td>\n",
       "      <td>04/10/2020</td>\n",
       "      <td>6663</td>\n",
       "      <td>187</td>\n",
       "    </tr>\n",
       "    <tr>\n",
       "      <th>4</th>\n",
       "      <td>India</td>\n",
       "      <td>04/11/2020</td>\n",
       "      <td>7212</td>\n",
       "      <td>203</td>\n",
       "    </tr>\n",
       "  </tbody>\n",
       "</table>\n",
       "</div>"
      ],
      "text/plain": [
       "  Country        Date  Confirmed_Cases_Predications  Death_Cases_Predications\n",
       "0   India  04/07/2020                          5016                       141\n",
       "1   India  04/08/2020                          5565                       156\n",
       "2   India  04/09/2020                          6114                       172\n",
       "3   India  04/10/2020                          6663                       187\n",
       "4   India  04/11/2020                          7212                       203"
      ]
     },
     "execution_count": 89,
     "metadata": {},
     "output_type": "execute_result"
    }
   ],
   "source": [
    "## Prediction Model for India\n",
    "country=\"India\"\n",
    "\n",
    "confirmed_recent_days=5\n",
    "death_recent_days_count=5\n",
    "prediction_duration=5\n",
    "\n",
    "confirmed_cases_next_dates, confirmed_cases_predictions = perform_predictions(confirmed_case_url, country, confirmed_recent_days, prediction_duration)\n",
    "\n",
    "death_cases_next_dates, death_cases_predictions = perform_predictions(death_case_url, country, death_recent_days_count, prediction_duration)\n",
    "\n",
    "result_dataframe(country, confirmed_cases_next_dates, confirmed_cases_predictions, death_cases_predictions)\n"
   ]
  },
  {
   "cell_type": "code",
   "execution_count": 92,
   "metadata": {},
   "outputs": [
    {
     "name": "stdout",
     "output_type": "stream",
     "text": [
      "Mean Absolute Error: 2861.019999999902\n",
      "Mean Squared Error: 11625199.156000426\n",
      "Root Mean Squared Error: 3409.574629774281\n",
      "Mean Absolute Error: 190.90000000000146\n",
      "Mean Squared Error: 41026.10000000114\n",
      "Root Mean Squared Error: 202.54900641573423\n"
     ]
    },
    {
     "data": {
      "text/html": [
       "<div>\n",
       "<style scoped>\n",
       "    .dataframe tbody tr th:only-of-type {\n",
       "        vertical-align: middle;\n",
       "    }\n",
       "\n",
       "    .dataframe tbody tr th {\n",
       "        vertical-align: top;\n",
       "    }\n",
       "\n",
       "    .dataframe thead th {\n",
       "        text-align: right;\n",
       "    }\n",
       "</style>\n",
       "<table border=\"1\" class=\"dataframe\">\n",
       "  <thead>\n",
       "    <tr style=\"text-align: right;\">\n",
       "      <th></th>\n",
       "      <th>Country</th>\n",
       "      <th>Date</th>\n",
       "      <th>Confirmed_Cases_Predications</th>\n",
       "      <th>Death_Cases_Predications</th>\n",
       "    </tr>\n",
       "  </thead>\n",
       "  <tbody>\n",
       "    <tr>\n",
       "      <th>0</th>\n",
       "      <td>US</td>\n",
       "      <td>04/07/2020</td>\n",
       "      <td>395054</td>\n",
       "      <td>11735</td>\n",
       "    </tr>\n",
       "    <tr>\n",
       "      <th>1</th>\n",
       "      <td>US</td>\n",
       "      <td>04/08/2020</td>\n",
       "      <td>424549</td>\n",
       "      <td>12855</td>\n",
       "    </tr>\n",
       "    <tr>\n",
       "      <th>2</th>\n",
       "      <td>US</td>\n",
       "      <td>04/09/2020</td>\n",
       "      <td>454043</td>\n",
       "      <td>13976</td>\n",
       "    </tr>\n",
       "    <tr>\n",
       "      <th>3</th>\n",
       "      <td>US</td>\n",
       "      <td>04/10/2020</td>\n",
       "      <td>483538</td>\n",
       "      <td>15096</td>\n",
       "    </tr>\n",
       "    <tr>\n",
       "      <th>4</th>\n",
       "      <td>US</td>\n",
       "      <td>04/11/2020</td>\n",
       "      <td>513032</td>\n",
       "      <td>16216</td>\n",
       "    </tr>\n",
       "  </tbody>\n",
       "</table>\n",
       "</div>"
      ],
      "text/plain": [
       "  Country        Date  Confirmed_Cases_Predications  Death_Cases_Predications\n",
       "0      US  04/07/2020                        395054                     11735\n",
       "1      US  04/08/2020                        424549                     12855\n",
       "2      US  04/09/2020                        454043                     13976\n",
       "3      US  04/10/2020                        483538                     15096\n",
       "4      US  04/11/2020                        513032                     16216"
      ]
     },
     "execution_count": 92,
     "metadata": {},
     "output_type": "execute_result"
    }
   ],
   "source": [
    "## Prediction Model for US\n",
    "country=\"US\"\n",
    "\n",
    "confirmed_recent_days=8\n",
    "death_recent_days_count=8\n",
    "prediction_duration=5\n",
    "\n",
    "confirmed_cases_next_dates, confirmed_cases_predictions = perform_predictions(confirmed_case_url, country, confirmed_recent_days, prediction_duration)\n",
    "\n",
    "death_cases_next_dates, death_cases_predictions = perform_predictions(death_case_url, country, death_recent_days_count, prediction_duration)\n",
    "\n",
    "result_dataframe(country, confirmed_cases_next_dates, confirmed_cases_predictions, death_cases_predictions)\n"
   ]
  }
 ],
 "metadata": {
  "kernelspec": {
   "display_name": "Python 3",
   "language": "python",
   "name": "python3"
  },
  "language_info": {
   "codemirror_mode": {
    "name": "ipython",
    "version": 3
   },
   "file_extension": ".py",
   "mimetype": "text/x-python",
   "name": "python",
   "nbconvert_exporter": "python",
   "pygments_lexer": "ipython3",
   "version": "3.7.6"
  }
 },
 "nbformat": 4,
 "nbformat_minor": 4
}
